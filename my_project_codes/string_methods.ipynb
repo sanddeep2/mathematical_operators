{
 "cells": [
  {
   "cell_type": "code",
   "execution_count": null,
   "id": "66298961",
   "metadata": {},
   "outputs": [],
   "source": [
    "# capitalize()\t Converts the first character to upper case\n",
    "# casefold()\tConverts string into lower case\n",
    "# center()\tReturns a centered string\n",
    "# count()\tReturns the number of times a specified value occurs in a string\n",
    "# encode()\tReturns an encoded version of the string\n",
    "# endswith()\tReturns true if the string ends with the specified value\n",
    "# expandtabs()\t Sets the tab size of the string\n",
    "# find()\tSearches the string for a specified value and returns the position of where it was found\n",
    "# format()\tFormats specified values in a string\n",
    "# format_map()\tFormats specified values in a string\n",
    "# index()\tSearches the string for a specified value and returns the position of where it was found\n",
    "# isalnum( )\tReturns True if all characters in the string are alphanumeric\n",
    "# isalpha( )\tReturns True if all characters in the string are in the alphabet\n",
    "# isascii( )\t Returns True if all characters in the string are ascii characters\n",
    "# isdecimal()\tReturns True if all characters in the string are decimals\n",
    "# isdigit()\tReturns True if all characters in the string are digits\n",
    "# isidentifier()\tReturns True if the string is an identifier\n",
    "# islower( )\tReturns True if all characters in the string are lower case\n",
    "# isnumeric()\tReturns True if all characters in the string are numeric\n",
    "# isprintable()\tReturns True if all characters in the string are printable\n",
    "# isspace( )\tReturns True if all characters in the string are whitespaces\n",
    "# istitle()\tReturns True if the string follows the rules of a title\n",
    "# isupper()\tReturns True if all characters in the string are upper case\n",
    "# join()\tJoins the elements of an iterable to the end of the string\n",
    "# ljust()\tReturns a left justified version of the string\n",
    "# lower()\tConverts a string into lower case\n",
    "# lstrip()\tReturns a left trim version of the string\n",
    "# maketrans()\tReturns a translation table to be used in translations\n",
    "# partition()\tReturns a tuple where the string is parted into three parts\n",
    "# replace( )\t   Returns a string where a specified value is replaced with a specified value\n",
    "# rfind()\tSearches the string for a specified value and returns the last position of where it was found\n",
    "# rindex()\tSearches the string for a specified value and returns the last position of where it was found\n",
    "# rjust()\tReturns a right justified version of the string\n",
    "# rpartition()\tReturns a tuple where the string is parted into three parts\n",
    "# rsplit()\tSplits the string at the specified separator, and returns a list\n",
    "# rstrip()\tReturns a right trim version of the string\n",
    "# split()\tSplits the string at the specified separator, and returns a list\n",
    "# splitlines()\tSplits the string at line breaks and returns a list\n",
    "# startswith()\tReturns true if the string starts with the specified value\n",
    "# strip()\tReturns a trimmed version of the string\n",
    "# swapcase()\tSwaps cases, lower case becomes upper case and vice versa\n",
    "# title()\tConverts the first character of each word to upper case\n",
    "# translate()\tReturns a translated string\n",
    "# upper()\tConverts a string into upper case\n",
    "# zfill()\tFills the string with a specified number of 0 values at the beginning"
   ]
  },
  {
   "cell_type": "code",
   "execution_count": 2,
   "id": "f4fd2ff0",
   "metadata": {},
   "outputs": [
    {
     "name": "stdout",
     "output_type": "stream",
     "text": [
      "Python is fun!\n",
      "36 is my age.\n"
     ]
    }
   ],
   "source": [
    "#capitalize()\n",
    "\n",
    "# Definition and Usage\n",
    "# The capitalize() method returns a string where the first character is upper case, and the rest is lower case.\n",
    "\n",
    "# Syntax\n",
    "# string.capitalize()\n",
    "\n",
    "# Example\n",
    "# The first character is converted to upper case, and the rest are converted to lower case:\n",
    "    \n",
    "txt = \"python is FUN!\"\n",
    "x = txt.capitalize()\n",
    "print (x)\n",
    "\n",
    "# Example\n",
    "# See what happens if the first character is a number:\n",
    "\n",
    "txt = \"36 is my age.\"\n",
    "x = txt.capitalize()\n",
    "print (x)\n"
   ]
  },
  {
   "cell_type": "code",
   "execution_count": 3,
   "id": "d6a85680",
   "metadata": {},
   "outputs": [
    {
     "name": "stdout",
     "output_type": "stream",
     "text": [
      "hello, and welcome to my world!\n"
     ]
    }
   ],
   "source": [
    "#  casefold() Method\n",
    "\n",
    "# Definition and Usage\n",
    "# The casefold() method returns a string where all the characters are lower case.\n",
    "\n",
    "# This method is similar to the lower() method, but the casefold() method is stronger, more aggressive, meaning that it will convert more characters into lower case, and will find more matches when comparing two strings and both are converted using the casefold() method.\n",
    "\n",
    "# Syntax\n",
    "# string.casefold()\n",
    "\n",
    "# Example\n",
    "# Make the string lower case:\n",
    "\n",
    "txt = \"Hello, And Welcome To My World!\"\n",
    "x = txt.casefold()\n",
    "print(x)"
   ]
  },
  {
   "cell_type": "code",
   "execution_count": 4,
   "id": "a0181b25",
   "metadata": {},
   "outputs": [
    {
     "name": "stdout",
     "output_type": "stream",
     "text": [
      "       banana       \n",
      "OOOOOOObananaOOOOOOO\n"
     ]
    }
   ],
   "source": [
    "# center()\n",
    "\n",
    "# Definition and Usage\n",
    "# The center() method will center align the string, using a specified character (space is default) as the fill character.\n",
    "\n",
    "# Syntax\n",
    "# string.center(length, character)\n",
    "\n",
    "# length\tRequired. The length of the returned string\n",
    "# character\tOptional. The character to fill the missing space on each side. Default is \" \" (space)\n",
    "\n",
    "# Example\n",
    "# Print the word \"banana\", taking up the space of 20 characters, with \"banana\" in the middle:\n",
    "\n",
    "txt = \"banana\"\n",
    "x = txt.center(20)\n",
    "print(x)\n",
    "\n",
    "# Example\n",
    "# Using the letter \"O\" as the padding character:\n",
    "\n",
    "txt = \"banana\"\n",
    "x = txt.center(20, \"O\")\n",
    "print(x)\n"
   ]
  },
  {
   "cell_type": "code",
   "execution_count": 5,
   "id": "3d61c77b",
   "metadata": {},
   "outputs": [
    {
     "name": "stdout",
     "output_type": "stream",
     "text": [
      "2\n",
      "1\n"
     ]
    }
   ],
   "source": [
    "# count()\n",
    "\n",
    "# Definition and Usage\n",
    "# The count() method returns the number of times a specified value appears in the string.\n",
    "\n",
    "# Syntax\n",
    "# string.count(value, start, end)\n",
    "\n",
    "# value\t   Required. A String. The string to value to search for\n",
    "# start\t Optional. An Integer. The position to start the search. Default is 0\n",
    "# end \tOptional. An Integer. The position to end the search. Default is the end of the string\n",
    "\n",
    "# Example\n",
    "# Return the number of times the value \"apple\" appears in the string:\n",
    "    \n",
    "txt = \"I love apples, apple are my favorite fruit\"\n",
    "x = txt.count(\"apple\")\n",
    "print(x)\n",
    "\n",
    "# Example\n",
    "# Search from position 10 to 24:\n",
    "\n",
    "txt = \"I love apples, apple are my favorite fruit\"\n",
    "x = txt.count(\"apple\", 10, 24)\n",
    "print(x)"
   ]
  },
  {
   "cell_type": "code",
   "execution_count": 6,
   "id": "b7bfc88e",
   "metadata": {},
   "outputs": [
    {
     "name": "stdout",
     "output_type": "stream",
     "text": [
      "b'My name is St\\xc3\\xa5le'\n",
      "b'My name is St\\\\xe5le'\n",
      "b'My name is Stle'\n",
      "b'My name is St\\\\N{LATIN SMALL LETTER A WITH RING ABOVE}le'\n",
      "b'My name is St?le'\n",
      "b'My name is St&#229;le'\n"
     ]
    }
   ],
   "source": [
    "#encode()\n",
    "\n",
    "# Definition and Usage\n",
    "# The encode() method encodes the string, using the specified encoding. If no encoding is specified, UTF-8 will be used.\n",
    "\n",
    "# Syntax\n",
    "# string.encode(encoding=encoding, errors=errors)\n",
    "\n",
    "# Example\n",
    "# UTF-8 encode the string:\n",
    "\n",
    "txt = \"My name is Ståle\"\n",
    "x = txt.encode()\n",
    "print(x)\n",
    "\n",
    "# Example\n",
    "# These examples uses ascii encoding, and a character that cannot be encoded, showing the result with different errors:\n",
    "\n",
    "txt = \"My name is Ståle\"\n",
    "print(txt.encode(encoding=\"ascii\",errors=\"backslashreplace\"))\n",
    "print(txt.encode(encoding=\"ascii\",errors=\"ignore\"))\n",
    "print(txt.encode(encoding=\"ascii\",errors=\"namereplace\"))\n",
    "print(txt.encode(encoding=\"ascii\",errors=\"replace\"))\n",
    "print(txt.encode(encoding=\"ascii\",errors=\"xmlcharrefreplace\"))"
   ]
  },
  {
   "cell_type": "code",
   "execution_count": 7,
   "id": "14bc9331",
   "metadata": {},
   "outputs": [
    {
     "name": "stdout",
     "output_type": "stream",
     "text": [
      "True\n",
      "True\n",
      "False\n"
     ]
    }
   ],
   "source": [
    "# endswith()\n",
    "\n",
    "# Definition and Usage\n",
    "# The endswith() method returns True if the string ends with the specified value, otherwise False.\n",
    "\n",
    "# Syntax\n",
    "# string.endswith(value, start, end)\n",
    "\n",
    "# value\tRequired. The value to check if the string ends with\n",
    "# start\tOptional. An Integer specifying at which position to start the search\n",
    "# end \tOptional. An Integer specifying at which position to end the search\n",
    "\n",
    "# Example\n",
    "# Check if the string ends with a punctuation sign (.):\n",
    "\n",
    "txt = \"Hello, welcome to my world.\"\n",
    "x = txt.endswith(\".\")\n",
    "print(x)\n",
    "\n",
    "\n",
    "# Example\n",
    "# Check if the string ends with the phrase \"my world.\":\n",
    "\n",
    "txt = \"Hello, welcome to my world.\"\n",
    "x = txt.endswith(\"my world.\")\n",
    "print(x)\n",
    "\n",
    "\n",
    "# Example\n",
    "# Check if position 5 to 11 ends with the phrase \"my world.\":\n",
    "\n",
    "txt = \"Hello, welcome to my world.\"\n",
    "x = txt.endswith(\"my world.\", 5, 11)\n",
    "print(x)\n"
   ]
  },
  {
   "cell_type": "code",
   "execution_count": 8,
   "id": "6edc6d75",
   "metadata": {},
   "outputs": [
    {
     "name": "stdout",
     "output_type": "stream",
     "text": [
      "H e l l o\n",
      "H\te\tl\tl\to\n",
      "H       e       l       l       o\n",
      "H e l l o\n",
      "H   e   l   l   o\n",
      "H         e         l         l         o\n"
     ]
    }
   ],
   "source": [
    "# expandtabs()\n",
    "\n",
    "# Definition and Usage\n",
    "# The expandtabs() method sets the tab size to the specified number of whitespaces.\n",
    "\n",
    "# Syntax\n",
    "# string.expandtabs(tabsize)\n",
    "\n",
    "# Example\n",
    "# Set the tab size to 2 whitespaces:\n",
    "\n",
    "txt = \"H\\te\\tl\\tl\\to\"\n",
    "x =  txt.expandtabs(2)\n",
    "print(x)\n",
    "\n",
    "# Example\n",
    "# See the result using different tab sizes:\n",
    "\n",
    "txt = \"H\\te\\tl\\tl\\to\"\n",
    "print(txt)\n",
    "print(txt.expandtabs())\n",
    "print(txt.expandtabs(2))\n",
    "print(txt.expandtabs(4))\n",
    "print(txt.expandtabs(10))"
   ]
  },
  {
   "cell_type": "code",
   "execution_count": 9,
   "id": "35bea388",
   "metadata": {},
   "outputs": [
    {
     "name": "stdout",
     "output_type": "stream",
     "text": [
      "7\n",
      "1\n",
      "1\n",
      "-1\n"
     ]
    },
    {
     "ename": "ValueError",
     "evalue": "substring not found",
     "output_type": "error",
     "traceback": [
      "\u001b[1;31m---------------------------------------------------------------------------\u001b[0m",
      "\u001b[1;31mValueError\u001b[0m                                Traceback (most recent call last)",
      "\u001b[1;32m<ipython-input-9-932848eacca0>\u001b[0m in \u001b[0;36m<module>\u001b[1;34m\u001b[0m\n\u001b[0;32m     42\u001b[0m \u001b[0mtxt\u001b[0m \u001b[1;33m=\u001b[0m \u001b[1;34m\"Hello, welcome to my world.\"\u001b[0m\u001b[1;33m\u001b[0m\u001b[1;33m\u001b[0m\u001b[0m\n\u001b[0;32m     43\u001b[0m \u001b[0mprint\u001b[0m\u001b[1;33m(\u001b[0m\u001b[0mtxt\u001b[0m\u001b[1;33m.\u001b[0m\u001b[0mfind\u001b[0m\u001b[1;33m(\u001b[0m\u001b[1;34m\"q\"\u001b[0m\u001b[1;33m)\u001b[0m\u001b[1;33m)\u001b[0m\u001b[1;33m\u001b[0m\u001b[1;33m\u001b[0m\u001b[0m\n\u001b[1;32m---> 44\u001b[1;33m \u001b[0mprint\u001b[0m\u001b[1;33m(\u001b[0m\u001b[0mtxt\u001b[0m\u001b[1;33m.\u001b[0m\u001b[0mindex\u001b[0m\u001b[1;33m(\u001b[0m\u001b[1;34m\"q\"\u001b[0m\u001b[1;33m)\u001b[0m\u001b[1;33m)\u001b[0m\u001b[1;33m\u001b[0m\u001b[1;33m\u001b[0m\u001b[0m\n\u001b[0m",
      "\u001b[1;31mValueError\u001b[0m: substring not found"
     ]
    }
   ],
   "source": [
    "# find() and index()\n",
    "\n",
    "# Definition and Usage\n",
    "# The find() method finds the first occurrence of the specified value.\n",
    "\n",
    "# The find() method returns -1 if the value is not found.\n",
    "\n",
    "# The find() method is almost the same as the index() method, the only difference is that the index() method raises an exception if the value is not found. (See example below)\n",
    "\n",
    "# Syntax\n",
    "# string.find(value, start, end)\n",
    "\n",
    "# value\tRequired. The value to search for\n",
    "# start\tOptional. Where to start the search. Default is 0\n",
    "# end \tOptional. Where to end the search. Default is to the end of the string\n",
    "\n",
    "# Example\n",
    "# Where in the text is the word \"welcome\"?:\n",
    "\n",
    "txt = \"Hello, welcome to my world.\"\n",
    "x = txt.find(\"welcome\")\n",
    "print(x)\n",
    "\n",
    "# Example\n",
    "# Where in the text is the first occurrence of the letter \"e\"?:\n",
    "\n",
    "txt = \"Hello, welcome to my world.\"\n",
    "x = txt.find(\"e\")\n",
    "print(x)\n",
    "\n",
    "\n",
    "# Example\n",
    "# Where in the text is the first occurrence of the letter \"e\"?:\n",
    "\n",
    "txt = \"Hello, welcome to my world.\"\n",
    "x = txt.find(\"e\")\n",
    "print(x)\n",
    "\n",
    "# Example\n",
    "# If the value is not found, the find() method returns -1, but the index() method will raise an exception:\n",
    "\n",
    "txt = \"Hello, welcome to my world.\"\n",
    "print(txt.find(\"q\"))\n",
    "print(txt.index(\"q\"))\n"
   ]
  },
  {
   "cell_type": "code",
   "execution_count": 10,
   "id": "23625d8a",
   "metadata": {},
   "outputs": [
    {
     "name": "stdout",
     "output_type": "stream",
     "text": [
      "True\n",
      "False\n"
     ]
    }
   ],
   "source": [
    "# isalnum()\n",
    "\n",
    "# Definition and Usage\n",
    "# The isalnum() method returns True if all the characters are alphanumeric, meaning alphabet letter (a-z) and numbers (0-9).\n",
    "\n",
    "# Example of characters that are not alphanumeric: (space)!#%&? etc.\n",
    "\n",
    "# Syntax\n",
    "# string.isalnum()\n",
    "\n",
    "# Example\n",
    "# Check if all the characters in the text are alphanumeric:\n",
    "\n",
    "txt = \"Company12\"\n",
    "x = txt.isalnum()\n",
    "print(x)\n",
    "\n",
    "# Example\n",
    "# Check if all the characters in the text is alphanumeric:\n",
    "\n",
    "txt = \"Company 12\"\n",
    "x = txt.isalnum()\n",
    "print(x)"
   ]
  },
  {
   "cell_type": "code",
   "execution_count": 11,
   "id": "ae653883",
   "metadata": {},
   "outputs": [
    {
     "name": "stdout",
     "output_type": "stream",
     "text": [
      "True\n",
      "False\n"
     ]
    }
   ],
   "source": [
    "# isalpha()\n",
    "\n",
    "# Definition and Usage\n",
    "# The isalpha() method returns True if all the characters are alphabet letters (a-z).\n",
    "\n",
    "# Example of characters that are not alphabet letters: (space)!#%&? etc.\n",
    "\n",
    "# Syntax\n",
    "# string.isalpha()\n",
    "\n",
    "# Example\n",
    "# Check if all the characters in the text are letters:\n",
    "\n",
    "txt = \"CompanyX\"\n",
    "x = txt.isalpha()\n",
    "print(x)\n",
    "\n",
    "# Example\n",
    "# Check if all the characters in the text is alphabetic:\n",
    "\n",
    "txt = \"Company10\"\n",
    "x = txt.isalpha()\n",
    "print(x)"
   ]
  },
  {
   "cell_type": "code",
   "execution_count": 13,
   "id": "dba775fb",
   "metadata": {},
   "outputs": [
    {
     "name": "stdout",
     "output_type": "stream",
     "text": [
      "True\n"
     ]
    }
   ],
   "source": [
    "#isascii()\n",
    "\n",
    "# Definition and Usage\n",
    "# The isascii() method returns True if all the characters are ascii characters  (a-z).\n",
    "\n",
    "# Syntax\n",
    "# string.isascii()\n",
    "\n",
    "# Example\n",
    "# Check if all the characters in the text are ascii characters:\n",
    "\n",
    "txt = \"Company123\"\n",
    "x = txt.isascii()\n",
    "print(x)"
   ]
  },
  {
   "cell_type": "code",
   "execution_count": 14,
   "id": "7855bb14",
   "metadata": {},
   "outputs": [
    {
     "name": "stdout",
     "output_type": "stream",
     "text": [
      "True\n",
      "True\n",
      "False\n"
     ]
    }
   ],
   "source": [
    "#isdecimal()\n",
    "\n",
    "# Definition and Usage\n",
    "# The isdecimal() method returns True if all the characters are decimals (0-9).\n",
    "\n",
    "# This method is used on unicode objects.\n",
    "\n",
    "# Syntax\n",
    "# string.isdecimal()\n",
    "\n",
    "# Example\n",
    "# Check if all the characters in the unicode object are decimals:\n",
    "\n",
    "txt = \"\\u0033\" #unicode for 3\n",
    "x = txt.isdecimal()\n",
    "print(x)\n",
    "\n",
    "# Example\n",
    "# Check if all the characters in the unicode are decimals:\n",
    "\n",
    "a = \"\\u0030\" #unicode for 0\n",
    "b = \"\\u0047\" #unicode for G\n",
    "print(a.isdecimal())\n",
    "print(b.isdecimal())"
   ]
  },
  {
   "cell_type": "code",
   "execution_count": 15,
   "id": "5296cc67",
   "metadata": {},
   "outputs": [
    {
     "name": "stdout",
     "output_type": "stream",
     "text": [
      "True\n",
      "True\n",
      "True\n"
     ]
    }
   ],
   "source": [
    "# Definition and Usage\n",
    "# The isdigit() method returns True if all the characters are digits, otherwise False.\n",
    "\n",
    "# Exponents, like ², are also considered to be a digit.\n",
    "\n",
    "# Syntax\n",
    "# string.isdigit()\n",
    "\n",
    "# Example\n",
    "# Check if all the characters in the text are digits:\n",
    "\n",
    "txt = \"50800\"\n",
    "x = txt.isdigit()\n",
    "print(x)\n",
    "\n",
    "# Example\n",
    "# Check if all the characters in the text are digits:\n",
    "\n",
    "a = \"\\u0030\" #unicode for 0\n",
    "b = \"\\u00B2\" #unicode for ²\n",
    "print(a.isdigit())\n",
    "print(b.isdigit())"
   ]
  },
  {
   "cell_type": "code",
   "execution_count": 16,
   "id": "0f889831",
   "metadata": {},
   "outputs": [
    {
     "name": "stdout",
     "output_type": "stream",
     "text": [
      "True\n",
      "True\n",
      "True\n",
      "False\n",
      "False\n"
     ]
    }
   ],
   "source": [
    "# Definition and Usage\n",
    "# The isidentifier() method returns True if the string is a valid identifier, otherwise False.\n",
    "\n",
    "# A string is considered a valid identifier if it only contains alphanumeric letters (a-z) and (0-9),\n",
    "#or underscores (_). A valid identifier cannot start with a number, or contain any spaces.\n",
    "\n",
    "# Syntax\n",
    "# string.isidentifier()\n",
    "\n",
    "# Example\n",
    "# Check if the string is a valid identifier:\n",
    "\n",
    "txt = \"Demo\"\n",
    "x = txt.isidentifier()\n",
    "print(x)\n",
    "\n",
    "# Example\n",
    "# Check if the strings are valid identifiers:\n",
    "\n",
    "a = \"MyFolder\"\n",
    "b = \"Demo002\"\n",
    "c = \"2bring\"\n",
    "d = \"my demo\"\n",
    "\n",
    "print(a.isidentifier())\n",
    "print(b.isidentifier())\n",
    "print(c.isidentifier())\n",
    "print(d.isidentifier())\n",
    "\n"
   ]
  },
  {
   "cell_type": "code",
   "execution_count": 17,
   "id": "05f932bb",
   "metadata": {},
   "outputs": [
    {
     "name": "stdout",
     "output_type": "stream",
     "text": [
      "True\n",
      "False\n",
      "True\n",
      "False\n"
     ]
    }
   ],
   "source": [
    "# Definition and Usage\n",
    "# The islower() method returns True if all the characters are in lower case, otherwise False.\n",
    "\n",
    "# Numbers, symbols and spaces are not checked, only alphabet characters.\n",
    "\n",
    "# Syntax\n",
    "# string.islower()\n",
    "\n",
    "# Example\n",
    "# Check if all the characters in the text are in lower case:\n",
    "\n",
    "txt = \"hello world!\"\n",
    "x = txt.islower()\n",
    "print(x)\n",
    "\n",
    "# Example\n",
    "# Check if all the characters in the texts are in lower case:\n",
    "\n",
    "a = \"Hello world!\"\n",
    "b = \"hello 123\"\n",
    "c = \"mynameisPeter\"\n",
    "\n",
    "print(a.islower())\n",
    "print(b.islower())\n",
    "print(c.islower())\n"
   ]
  },
  {
   "cell_type": "code",
   "execution_count": 18,
   "id": "d49e6e20",
   "metadata": {},
   "outputs": [
    {
     "name": "stdout",
     "output_type": "stream",
     "text": [
      "True\n",
      "True\n",
      "True\n",
      "False\n",
      "False\n",
      "False\n"
     ]
    }
   ],
   "source": [
    "# Definition and Usage\n",
    "# The isnumeric() method returns True if all the characters are numeric (0-9), otherwise False.\n",
    "# Exponents, like ² and ¾ are also considered to be numeric values.\n",
    "# \"-1\" and \"1.5\" are NOT considered numeric values, because all the characters in the string must be numeric, and the - and the . are not.\n",
    "\n",
    "# Syntax\n",
    "# string.isnumeric()\n",
    "\n",
    "# Example\n",
    "# Check if all the characters in the text are numeric:\n",
    "\n",
    "txt = \"565543\"\n",
    "x = txt.isnumeric()\n",
    "print(x)\n",
    "\n",
    "# Example\n",
    "# Check if the characters are numeric:\n",
    "\n",
    "a = \"\\u0030\" #unicode for 0\n",
    "b = \"\\u00B2\" #unicode for &sup2;\n",
    "c = \"10km2\"\n",
    "d = \"-1\"\n",
    "e = \"1.5\"\n",
    "\n",
    "print(a.isnumeric())\n",
    "print(b.isnumeric())\n",
    "print(c.isnumeric())\n",
    "print(d.isnumeric())\n",
    "print(e.isnumeric())"
   ]
  },
  {
   "cell_type": "code",
   "execution_count": 19,
   "id": "9fd1ff46",
   "metadata": {},
   "outputs": [
    {
     "name": "stdout",
     "output_type": "stream",
     "text": [
      "True\n",
      "False\n"
     ]
    }
   ],
   "source": [
    "# isprintable()\n",
    "# Definition and Usage\n",
    "# The isprintable() method returns True if all the characters are printable, otherwise False.\n",
    "\n",
    "# Example of none printable character can be carriage return and line feed.\n",
    "\n",
    "# Syntax\n",
    "# string.isprintable()\n",
    "\n",
    "# Example\n",
    "# Check if all the characters in the text are printable:\n",
    "\n",
    "txt = \"Hello! Are you #1?\"\n",
    "x = txt.isprintable()\n",
    "print(x)\n",
    "\n",
    "# Example\n",
    "# Check if all the characters in the text are printable:\n",
    "\n",
    "txt = \"Hello!\\nAre you #1?\"\n",
    "x = txt.isprintable()\n",
    "print(x)"
   ]
  },
  {
   "cell_type": "code",
   "execution_count": 20,
   "id": "2acd3cf6",
   "metadata": {},
   "outputs": [
    {
     "name": "stdout",
     "output_type": "stream",
     "text": [
      "True\n",
      "False\n"
     ]
    }
   ],
   "source": [
    "# isspace()\n",
    "# Definition and Usage\n",
    "# The isspace() method returns True if all the characters in a string are whitespaces, otherwise False.\n",
    "\n",
    "# Syntax\n",
    "# string.isspace()\n",
    "\n",
    "# Example\n",
    "# Check if all the characters in the text are whitespaces:\n",
    "\n",
    "txt = \"   \"\n",
    "x = txt.isspace()\n",
    "print(x)\n",
    "\n",
    "# Example\n",
    "# Check if all the characters in the text are whitespaces:\n",
    "\n",
    "txt = \"   s   \"\n",
    "x = txt.isspace()\n",
    "print(x)"
   ]
  },
  {
   "cell_type": "code",
   "execution_count": 21,
   "id": "3131cf58",
   "metadata": {},
   "outputs": [
    {
     "name": "stdout",
     "output_type": "stream",
     "text": [
      "True\n",
      "False\n",
      "True\n",
      "True\n",
      "True\n"
     ]
    }
   ],
   "source": [
    "# Definition and Usage\n",
    "# The istitle() method returns True if all words in a text start with a upper case letter, AND the rest of the word are lower case letters, otherwise False.\n",
    "# Symbols and numbers are ignored.\n",
    "\n",
    "# Syntax\n",
    "# string.istitle()\n",
    "\n",
    "# Example\n",
    "# Check if each word start with an upper case letter:\n",
    "\n",
    "txt = \"Hello, And Welcome To My World!\"\n",
    "x = txt.istitle()\n",
    "print(x)\n",
    "\n",
    "# Example\n",
    "# Check if each word start with an upper case letter:\n",
    "\n",
    "a = \"HELLO, AND WELCOME TO MY WORLD\"\n",
    "b = \"Hello\"\n",
    "c = \"22 Names\"\n",
    "d = \"This Is %'!?\"\n",
    "\n",
    "print(a.istitle())\n",
    "print(b.istitle())\n",
    "print(c.istitle())\n",
    "print(d.istitle())\n",
    "\n"
   ]
  },
  {
   "cell_type": "code",
   "execution_count": 22,
   "id": "53658277",
   "metadata": {},
   "outputs": [
    {
     "name": "stdout",
     "output_type": "stream",
     "text": [
      "True\n",
      "False\n",
      "False\n",
      "True\n"
     ]
    }
   ],
   "source": [
    "# Definition and Usage\n",
    "# The isupper() method returns True if all the characters are in upper case, otherwise False.\n",
    "\n",
    "# Numbers, symbols and spaces are not checked, only alphabet characters.\n",
    "\n",
    "# Syntax\n",
    "# string.isupper()\n",
    "\n",
    "# Example\n",
    "# Check if all the characters in the text are in upper case:\n",
    "\n",
    "txt = \"THIS IS NOW!\"\n",
    "x = txt.isupper()\n",
    "print(x)\n",
    "\n",
    "# Example\n",
    "# Check if all the characters in the texts are in upper case:\n",
    "\n",
    "a = \"Hello World!\"\n",
    "b = \"hello 123\"\n",
    "c = \"MY NAME IS PETER\"\n",
    "\n",
    "print(a.isupper())\n",
    "print(b.isupper())\n",
    "print(c.isupper())\n",
    "\n"
   ]
  },
  {
   "cell_type": "code",
   "execution_count": 23,
   "id": "e2fb0511",
   "metadata": {},
   "outputs": [
    {
     "name": "stdout",
     "output_type": "stream",
     "text": [
      "John#Peter#Vicky\n",
      "nameTESTcountry\n"
     ]
    }
   ],
   "source": [
    "# join()\n",
    "\n",
    "# Definition and Usage\n",
    "# The join() method takes all items in an iterable and joins them into one string.\n",
    "\n",
    "# A string must be specified as the separator.\n",
    "\n",
    "# Syntax\n",
    "# string.join(iterable)\n",
    "\n",
    "# Parameter\tDescription\n",
    "# iterable\tRequired. Any iterable object where all the returned values are strings\n",
    "\n",
    "# Example\n",
    "# Join all items in a tuple into a string, using a hash character as separator:\n",
    "\n",
    "myTuple = (\"John\", \"Peter\", \"Vicky\")\n",
    "x = \"#\".join(myTuple)\n",
    "print(x)\n",
    "\n",
    "# Example\n",
    "# Join all items in a dictionary into a string, using a the word \"TEST\" as separator:\n",
    "\n",
    "myDict = {\"name\": \"John\", \"country\": \"Norway\"}\n",
    "mySeparator = \"TEST\"\n",
    "x = mySeparator.join(myDict)\n",
    "print(x)"
   ]
  },
  {
   "cell_type": "code",
   "execution_count": 24,
   "id": "8660b1fd",
   "metadata": {},
   "outputs": [
    {
     "name": "stdout",
     "output_type": "stream",
     "text": [
      "of all fruits banana      is my favorite\n",
      "banana\n"
     ]
    }
   ],
   "source": [
    "# lstrip()\n",
    "\n",
    "# Definition and Usage\n",
    "# The lstrip() method removes any leading characters (space is the default leading character to remove)\n",
    "\n",
    "# Syntax\n",
    "# string.lstrip(characters)\n",
    "\n",
    "# characters\tOptional. A set of characters to remove as leading characters\n",
    "\n",
    "# Example\n",
    "# Remove  spaces to the left of the string:\n",
    "\n",
    "txt = \"     banana     \"\n",
    "x = txt.lstrip()\n",
    "print(\"of all fruits\", x, \"is my favorite\")\n",
    "\n",
    "# Example\n",
    "# Remove the leading characters:\n",
    "\n",
    "txt = \",,,,,ssaaww.....banana\"\n",
    "x = txt.lstrip(\",.asw\")\n",
    "print(x)\n"
   ]
  },
  {
   "cell_type": "code",
   "execution_count": 25,
   "id": "b336c60f",
   "metadata": {},
   "outputs": [
    {
     "name": "stdout",
     "output_type": "stream",
     "text": [
      "hello my friends\n"
     ]
    }
   ],
   "source": [
    "# lower()\n",
    "# Definition and Usage\n",
    "# The lower() method returns a string where all characters are lower case.\n",
    "\n",
    "#  Symbols and Numbers are ignored.\n",
    "\n",
    "# Syntax\n",
    "# string.lower()\n",
    "\n",
    "# Example\n",
    "# Lower case the string:\n",
    "\n",
    "txt = \"Hello my FRIENDS\"\n",
    "x = txt.lower()\n",
    "print(x)\n"
   ]
  },
  {
   "cell_type": "code",
   "execution_count": 26,
   "id": "0941f2e5",
   "metadata": {},
   "outputs": [
    {
     "name": "stdout",
     "output_type": "stream",
     "text": [
      "banana               is my favorite fruit.\n",
      "bananaOOOOOOOOOOOOOO\n"
     ]
    }
   ],
   "source": [
    "# Definition and Usage\n",
    "# The ljust() method will left align the string, using a specified character (space is default) as the fill character.\n",
    "\n",
    "# Syntax\n",
    "# string.ljust(length, character)\n",
    "\n",
    "# length\tRequired. The length of the returned string\n",
    "# character\tOptional. A character to fill the missing space (to the right of the string). Default is \" \" (space).\n",
    "\n",
    "# Example\n",
    "# Return a 20 characters long, left justified version of the word \"banana\":\n",
    "\n",
    "txt = \"banana\"\n",
    "x = txt.ljust(20)\n",
    "print(x, \"is my favorite fruit.\")\n",
    "# Note: In the result, there are actually 14 whitespaces to the right of the word banana.\n",
    "\n",
    "# Example\n",
    "# Using the letter \"O\" as the padding character:\n",
    "\n",
    "txt = \"banana\"\n",
    "x = txt.ljust(20, \"O\")\n",
    "print(x)"
   ]
  },
  {
   "cell_type": "code",
   "execution_count": 27,
   "id": "c1fd0f03",
   "metadata": {},
   "outputs": [
    {
     "name": "stdout",
     "output_type": "stream",
     "text": [
      "12\n",
      "13\n",
      "8\n",
      "-1\n"
     ]
    },
    {
     "ename": "ValueError",
     "evalue": "substring not found",
     "output_type": "error",
     "traceback": [
      "\u001b[1;31m---------------------------------------------------------------------------\u001b[0m",
      "\u001b[1;31mValueError\u001b[0m                                Traceback (most recent call last)",
      "\u001b[1;32m<ipython-input-27-ec291385e8f2>\u001b[0m in \u001b[0;36m<module>\u001b[1;34m\u001b[0m\n\u001b[0;32m     38\u001b[0m \u001b[0mtxt\u001b[0m \u001b[1;33m=\u001b[0m \u001b[1;34m\"Hello, welcome to my world.\"\u001b[0m\u001b[1;33m\u001b[0m\u001b[1;33m\u001b[0m\u001b[0m\n\u001b[0;32m     39\u001b[0m \u001b[0mprint\u001b[0m\u001b[1;33m(\u001b[0m\u001b[0mtxt\u001b[0m\u001b[1;33m.\u001b[0m\u001b[0mrfind\u001b[0m\u001b[1;33m(\u001b[0m\u001b[1;34m\"q\"\u001b[0m\u001b[1;33m)\u001b[0m\u001b[1;33m)\u001b[0m\u001b[1;33m\u001b[0m\u001b[1;33m\u001b[0m\u001b[0m\n\u001b[1;32m---> 40\u001b[1;33m \u001b[0mprint\u001b[0m\u001b[1;33m(\u001b[0m\u001b[0mtxt\u001b[0m\u001b[1;33m.\u001b[0m\u001b[0mrindex\u001b[0m\u001b[1;33m(\u001b[0m\u001b[1;34m\"q\"\u001b[0m\u001b[1;33m)\u001b[0m\u001b[1;33m)\u001b[0m\u001b[1;33m\u001b[0m\u001b[1;33m\u001b[0m\u001b[0m\n\u001b[0m",
      "\u001b[1;31mValueError\u001b[0m: substring not found"
     ]
    }
   ],
   "source": [
    "# rfind() and rindex()\n",
    "# Definition and Usage\n",
    "# The rindex() method finds the last occurrence of the specified value.\n",
    "# The rindex() method raises an exception if the value is not found.\n",
    "# The rindex() method is almost the same as the rfind() method. See example below.\n",
    "\n",
    "# Syntax\n",
    "# string.rindex(value, start, end)\n",
    "\n",
    "# value\tRequired. The value to search for\n",
    "# start\tOptional. Where to start the search. Default is 0\n",
    "# end \tOptional. Where to end the search. Default is to the end of the string\n",
    "\n",
    "\n",
    "# Example\n",
    "# Where in the text is the last occurrence of the string \"casa\"?:\n",
    "\n",
    "txt = \"Mi casa, su casa.\"\n",
    "x = txt.rindex(\"casa\")\n",
    "print(x)\n",
    "\n",
    "# Example\n",
    "# Where in the text is the last occurrence of the letter \"e\"?:\n",
    "\n",
    "txt = \"Hello, welcome to my world.\"\n",
    "x = txt.rindex(\"e\")\n",
    "print(x)\n",
    "\n",
    "# Example\n",
    "# Where in the text is the last occurrence of the letter \"e\" when you only search between position 5 and 10?:\n",
    "\n",
    "txt = \"Hello, welcome to my world.\"\n",
    "x = txt.rindex(\"e\", 5, 10)\n",
    "print(x)\n",
    "\n",
    "# Example\n",
    "# If the value is not found, the rfind() method returns -1, but the rindex() method will raise an exception:\n",
    "\n",
    "txt = \"Hello, welcome to my world.\"\n",
    "print(txt.rfind(\"q\"))\n",
    "print(txt.rindex(\"q\"))"
   ]
  },
  {
   "cell_type": "code",
   "execution_count": 28,
   "id": "83229d9a",
   "metadata": {},
   "outputs": [
    {
     "name": "stdout",
     "output_type": "stream",
     "text": [
      "I like apples\n",
      "three three was a race horse, two two was three too.\n",
      "three three was a race horse, two two was one too.\n"
     ]
    }
   ],
   "source": [
    "# replace()\n",
    "# Definition and Usage\n",
    "# The replace() method replaces a specified phrase with another specified phrase.\n",
    "\n",
    "# Note: All occurrences of the specified phrase will be replaced, if nothing else is specified.\n",
    "\n",
    "# Syntax\n",
    "# string.replace(oldvalue, newvalue, count)\n",
    "\n",
    "# oldvalue\tRequired. The string to search for\n",
    "# newvalue\tRequired. The string to replace the old value with\n",
    "# count\tOptional. A number specifying how many occurrences of the old value you want to replace. Default is all occurrences\n",
    "\n",
    "\n",
    "# Example\n",
    "# Replace the word \"bananas\":\n",
    "\n",
    "txt = \"I like bananas\"\n",
    "x = txt.replace(\"bananas\", \"apples\")\n",
    "print(x)\n",
    "\n",
    "# Example\n",
    "# Replace all occurrence of the word \"one\":\n",
    "\n",
    "txt = \"one one was a race horse, two two was one too.\"\n",
    "x = txt.replace(\"one\", \"three\")\n",
    "print(x)\n",
    "\n",
    "# Example\n",
    "# Replace the two first occurrence of the word \"one\":\n",
    "\n",
    "txt = \"one one was a race horse, two two was one too.\"\n",
    "x = txt.replace(\"one\", \"three\", 2)\n",
    "print(x)"
   ]
  },
  {
   "cell_type": "code",
   "execution_count": 29,
   "id": "781ba257",
   "metadata": {},
   "outputs": [
    {
     "name": "stdout",
     "output_type": "stream",
     "text": [
      "('I could eat ', 'bananas', ' all day')\n",
      "('I could eat bananas all day', '', '')\n"
     ]
    }
   ],
   "source": [
    "# Definition and Usage\n",
    "# The partition() method searches for a specified string, and splits the string into a tuple containing three elements.\n",
    "# The first element contains the part before the specified string.\n",
    "# The second element contains the specified string.\n",
    "# The third element contains the part after the string.\n",
    "# Note: This method search for the first occurrence of the specified string.\n",
    "\n",
    "# Syntax\n",
    "# string.partition(value)\n",
    "# Parameter Values\n",
    "# Parameter\tDescription\n",
    "# value\tRequired. The string to search for\n",
    "\n",
    "# Example\n",
    "# Search for the word \"bananas\", and return a tuple with three elements:\n",
    "# 1 - everything before the \"match\"\n",
    "# 2 - the \"match\"\n",
    "# 3 - everything after the \"match\"\n",
    "\n",
    "txt = \"I could eat bananas all day\"\n",
    "x = txt.partition(\"bananas\")\n",
    "print(x)\n",
    "\n",
    "# Example\n",
    "# If the specified value is not found, the partition() method returns a tuple containing: 1 - the whole string, 2 - an empty string, 3 - an empty string:\n",
    "\n",
    "txt = \"I could eat bananas all day\"\n",
    "x = txt.partition(\"apples\")\n",
    "print(x)"
   ]
  },
  {
   "cell_type": "code",
   "execution_count": 30,
   "id": "616425bb",
   "metadata": {},
   "outputs": [
    {
     "name": "stdout",
     "output_type": "stream",
     "text": [
      "Hello Pam!\n",
      "Hi Joe!\n",
      "G i Joe!\n",
      "{109: 101, 83: 74, 97: 111, 111: None, 100: None, 110: None, 103: None, 104: None, 116: None}\n"
     ]
    }
   ],
   "source": [
    "# Definition and Usage\n",
    "# The maketrans() method returns a mapping table that can be used with the translate() method to replace specified characters.\n",
    "\n",
    "# Syntax\n",
    "# string.maketrans(x, y, z)\n",
    "# x \tRequired. If only one parameter is specified, this has to be a dictionary describing how to perform the replace. \n",
    "#If two or more parameters are specified, this parameter has to be a string specifying the characters you want to replace.\n",
    "# y \tOptional. A string with the same length as parameter x.\n",
    "#Each character in the first parameter will be replaced with the corresponding character in this string.\n",
    "# z \t Optional. A string describing which characters to remove from the original string.\n",
    "\n",
    "# Example\n",
    "# Create a mapping table, and use it in the translate() method to replace any \"S\" characters with a \"P\" character:\n",
    "\n",
    "txt = \"Hello Sam!\"\n",
    "mytable = txt.maketrans(\"S\", \"P\")\n",
    "print(txt.translate(mytable))\n",
    "\n",
    "# Example\n",
    "# Use a mapping table to replace many characters:\n",
    "\n",
    "txt = \"Hi Sam!\"\n",
    "x = \"mSa\"\n",
    "y = \"eJo\"\n",
    "mytable = txt.maketrans(x, y)\n",
    "print(txt.translate(mytable))\n",
    "\n",
    "# Example\n",
    "# The third parameter in the mapping table describes characters that you want to remove from the string:\n",
    "\n",
    "txt = \"Good night Sam!\"\n",
    "x = \"mSa\"\n",
    "y = \"eJo\"\n",
    "z = \"odnght\"\n",
    "mytable = txt.maketrans(x, y, z)\n",
    "print(txt.translate(mytable))\n",
    "\n",
    "# Example\n",
    "# The maketrans() method itself returns a dictionary describing each replacement, in unicode:\n",
    "\n",
    "txt = \"Good night Sam!\"\n",
    "x = \"mSa\"\n",
    "y = \"eJo\"\n",
    "z = \"odnght\"\n",
    "print(txt.maketrans(x, y, z))"
   ]
  },
  {
   "cell_type": "code",
   "execution_count": 31,
   "id": "9a2fcd00",
   "metadata": {},
   "outputs": [
    {
     "name": "stdout",
     "output_type": "stream",
     "text": [
      "['Thank you for the music', 'Welcome to the jungle']\n",
      "['Thank you for the music\\n', 'Welcome to the jungle']\n"
     ]
    }
   ],
   "source": [
    "# Definition and Usage\n",
    "# The splitlines() method splits a string into a list. The splitting is done at line breaks.\n",
    "\n",
    "# Syntax\n",
    "# string.splitlines(keeplinebreaks)\n",
    "\n",
    "# keeplinebreaks\tOptional. Specifies if the line breaks should be included (True), or not (False). Default value is False\n",
    "\n",
    "# Example\n",
    "# Split a string into a list where each line is a list item:\n",
    "\n",
    "txt = \"Thank you for the music\\nWelcome to the jungle\"\n",
    "x = txt.splitlines()\n",
    "print(x)\n",
    "\n",
    "# Example\n",
    "# Split the string, but keep the line breaks:\n",
    "\n",
    "txt = \"Thank you for the music\\nWelcome to the jungle\"\n",
    "x = txt.splitlines(True)\n",
    "print(x)\n"
   ]
  },
  {
   "cell_type": "code",
   "execution_count": 32,
   "id": "5fed6717",
   "metadata": {},
   "outputs": [
    {
     "name": "stdout",
     "output_type": "stream",
     "text": [
      "['welcome', 'to', 'the', 'jungle']\n",
      "['hello', 'my name is Peter', 'I am 26 years old']\n",
      "['apple', 'banana', 'cherry', 'orange']\n",
      "['apple', 'banana#cherry#orange']\n"
     ]
    }
   ],
   "source": [
    "# Definition and Usage\n",
    "# The split() method splits a string into a list.\n",
    "\n",
    "# You can specify the separator, default separator is any whitespace.\n",
    "# Note: When maxsplit is specified, the list will contain the specified number of elements plus one.\n",
    "\n",
    "# Syntax\n",
    "# string.split(separator, maxsplit)\n",
    "\n",
    "# separator\tOptional. Specifies the separator to use when splitting the string. By default any whitespace is a separator\n",
    "# maxsplit\tOptional. Specifies how many splits to do. Default value is -1, which is \"all occurrences\"\n",
    "\n",
    "# Example\n",
    "# Split a string into a list where each word is a list item:\n",
    "\n",
    "txt = \"welcome to the jungle\"\n",
    "x = txt.split()\n",
    "print(x)\n",
    "\n",
    "# Example\n",
    "# Split the string, using comma, followed by a space, as a separator:\n",
    "\n",
    "txt = \"hello, my name is Peter, I am 26 years old\"\n",
    "x = txt.split(\", \")\n",
    "print(x)\n",
    "\n",
    "# Example\n",
    "# Use a hash character as a separator:\n",
    "\n",
    "txt = \"apple#banana#cherry#orange\"\n",
    "x = txt.split(\"#\")\n",
    "print(x)\n",
    "\n",
    "# Example\n",
    "# Split the string into a list with max 2 items:\n",
    "\n",
    "txt = \"apple#banana#cherry#orange\"\n",
    "# setting the maxsplit parameter to 1, will return a list with 2 elements!\n",
    "x = txt.split(\"#\", 1)\n",
    "print(x)"
   ]
  },
  {
   "cell_type": "code",
   "execution_count": 33,
   "id": "ca809a11",
   "metadata": {},
   "outputs": [
    {
     "name": "stdout",
     "output_type": "stream",
     "text": [
      "of all fruits      banana is my favorite\n",
      "banana\n"
     ]
    }
   ],
   "source": [
    "# Definition and Usage\n",
    "# The rstrip() method removes any trailing characters (characters at the end a string), space is the default trailing character to remove.\n",
    "\n",
    "# Syntax\n",
    "# string.rstrip(characters)\n",
    "# characters\tOptional. A set of characters to remove as trailing characters\n",
    "\n",
    "# Example\n",
    "# Remove any white spaces at the end of the string:\n",
    "\n",
    "txt = \"     banana     \"\n",
    "x = txt.rstrip()\n",
    "print(\"of all fruits\", x, \"is my favorite\")\n",
    "\n",
    "# Example\n",
    "# Remove the trailing characters if they are commas, s, q, or w:\n",
    "\n",
    "txt = \"banana,,,,,ssqqqww.....\"\n",
    "x = txt.rstrip(\",.qsw\")\n",
    "print(x)\n"
   ]
  },
  {
   "cell_type": "code",
   "execution_count": 34,
   "id": "f3a4352e",
   "metadata": {},
   "outputs": [
    {
     "name": "stdout",
     "output_type": "stream",
     "text": [
      "['apple', 'banana', 'cherry']\n",
      "['apple, banana', 'cherry']\n"
     ]
    }
   ],
   "source": [
    "# Definition and Usage\n",
    "# The rsplit() method splits a string into a list, starting from the right.\n",
    "# If no \"max\" is specified, this method will return the same as the split() method.\n",
    "# Note: When maxsplit is specified, the list will contain the specified number of elements plus one.\n",
    "\n",
    "# Syntax\n",
    "# string.rsplit(separator, maxsplit)\n",
    "# separator\tOptional. Specifies the separator to use when splitting the string. By default any whitespace is a separator\n",
    "# maxsplit\tOptional. Specifies how many splits to do. Default value is -1, which is \"all occurrences\"\n",
    "\n",
    "# Example\n",
    "# Split a string into a list, using comma, followed by a space (, ) as the separator:\n",
    "\n",
    "txt = \"apple, banana, cherry\"\n",
    "x = txt.rsplit(\", \")\n",
    "print(x)\n",
    "\n",
    "# Example\n",
    "# Split the string into a list with maximum 2 items:\n",
    "\n",
    "txt = \"apple, banana, cherry\"\n",
    "# setting the maxsplit parameter to 1, will return a list with 2 elements!\n",
    "x = txt.rsplit(\", \", 1)\n",
    "print(x)"
   ]
  },
  {
   "cell_type": "code",
   "execution_count": 35,
   "id": "ed679094",
   "metadata": {},
   "outputs": [
    {
     "name": "stdout",
     "output_type": "stream",
     "text": [
      "('I could eat bananas all day, ', 'bananas', ' are my favorite fruit')\n",
      "('', '', 'I could eat bananas all day, bananas are my favorite fruit')\n"
     ]
    }
   ],
   "source": [
    "# Definition and Usage\n",
    "# The rpartition() method searches for the last occurrence of a specified string, and splits the string into a tuple containing three elements.\n",
    "# The first element contains the part before the specified string.\n",
    "# The second element contains the specified string.\n",
    "# The third element contains the part after the string.\n",
    "\n",
    "# Syntax\n",
    "# string.rpartition(value)\n",
    "# value\tRequired. The string to search for\n",
    "\n",
    "# Example\n",
    "# Search for the last occurrence of the word \"bananas\", and return a tuple with three elements:\n",
    "# 1 - everything before the \"match\"\n",
    "# 2 - the \"match\"\n",
    "# 3 - everything after the \"match\"\n",
    "\n",
    "txt = \"I could eat bananas all day, bananas are my favorite fruit\"\n",
    "x = txt.rpartition(\"bananas\")\n",
    "print(x)\n",
    "\n",
    "# Example\n",
    "# If the specified value is not found, the rpartition() method returns a tuple containing: 1 - an empty string, 2 - an empty string, 3 - the whole string:\n",
    "\n",
    "txt = \"I could eat bananas all day, bananas are my favorite fruit\"\n",
    "x = txt.rpartition(\"apples\")\n",
    "print(x)"
   ]
  },
  {
   "cell_type": "code",
   "execution_count": 37,
   "id": "cae5d701",
   "metadata": {},
   "outputs": [
    {
     "name": "stdout",
     "output_type": "stream",
     "text": [
      "              banana is my favorite fruit.\n",
      "OOOOOOOOOOOOOObanana\n"
     ]
    }
   ],
   "source": [
    "# Definition and Usage\n",
    "# The rjust() method will right align the string, using a specified character (space is default) as the fill character.\n",
    "\n",
    "# Syntax\n",
    "# string.rjust(length, character)\n",
    "# Parameter Values\n",
    "# Parameter\tDescription\n",
    "# length\tRequired. The length of the returned string\n",
    "# character\tOptional. A character to fill the missing space (to the left of the string). Default is \" \" (space).\n",
    "\n",
    "# Example\n",
    "# Return a 20 characters long, right justified version of the word \"banana\":\n",
    "\n",
    "txt = \"banana\"\n",
    "x = txt.rjust(20)\n",
    "print(x, \"is my favorite fruit.\")\n",
    "#Note: In the result, there are actually 14 whitespaces to the left of the word banana.\n",
    "\n",
    "# Example\n",
    "# Using the letter \"O\" as the padding character:\n",
    "\n",
    "txt = \"banana\"\n",
    "x = txt.rjust(20, \"O\")\n",
    "print(x)\n"
   ]
  },
  {
   "cell_type": "code",
   "execution_count": 38,
   "id": "39f5b12f",
   "metadata": {},
   "outputs": [
    {
     "name": "stdout",
     "output_type": "stream",
     "text": [
      "True\n",
      "True\n"
     ]
    }
   ],
   "source": [
    "# Definition and Usage\n",
    "# The startswith() method returns True if the string starts with the specified value, otherwise False.\n",
    "\n",
    "# Syntax\n",
    "# string.startswith(value, start, end)\n",
    "\n",
    "# value \tRequired. The value to check if the string starts with\n",
    "# start \tOptional. An Integer specifying at which position to start the search\n",
    "# end\tOptional. An Integer specifying at which position to end the search\n",
    "\n",
    "# Example\n",
    "# Check if the string starts with \"Hello\":\n",
    "\n",
    "txt = \"Hello, welcome to my world.\"\n",
    "x = txt.startswith(\"Hello\")\n",
    "print(x)\n",
    "\n",
    "# Example\n",
    "# Check if position 7 to 20 starts with the characters \"wel\":\n",
    "\n",
    "txt = \"Hello, welcome to my world.\"\n",
    "x = txt.startswith(\"wel\", 7, 20)\n",
    "print(x)\n"
   ]
  },
  {
   "cell_type": "code",
   "execution_count": 39,
   "id": "7abbfd50",
   "metadata": {},
   "outputs": [
    {
     "name": "stdout",
     "output_type": "stream",
     "text": [
      "of all fruits banana is my favorite\n",
      "banana\n"
     ]
    }
   ],
   "source": [
    "# Definition and Usage\n",
    "# The strip() method removes any leading (spaces at the beginning) and trailing (spaces at the end) characters (space is the default leading character to remove)\n",
    "\n",
    "# Syntax\n",
    "# string.strip(characters)\n",
    "# Parameter Values\n",
    "# Parameter\tDescription\n",
    "# characters\tOptional. A set of characters to remove as leading/trailing characters\n",
    "\n",
    "# Example\n",
    "# Remove spaces at the beginning and at the end of the string:\n",
    "\n",
    "txt = \"     banana     \"\n",
    "x = txt.strip()\n",
    "print(\"of all fruits\", x, \"is my favorite\")\n",
    "\n",
    "# Example\n",
    "# Remove the leading and trailing characters:\n",
    "\n",
    "txt = \",,,,,rrttgg.....banana....rrr\"\n",
    "x = txt.strip(\",.grt\")\n",
    "print(x)\n",
    "\n"
   ]
  },
  {
   "cell_type": "code",
   "execution_count": 40,
   "id": "00c45e8b",
   "metadata": {},
   "outputs": [
    {
     "name": "stdout",
     "output_type": "stream",
     "text": [
      "hELLO mY nAME iS peter\n"
     ]
    }
   ],
   "source": [
    "# Definition and Usage\n",
    "# The swapcase() method returns a string where all the upper case letters are lower case and vice versa.\n",
    "\n",
    "# Syntax\n",
    "# string.swapcase()\n",
    "\n",
    "# Example\n",
    "# Make the lower case letters upper case and the upper case letters lower case:\n",
    "\n",
    "txt = \"Hello My Name Is PETER\"\n",
    "x = txt.swapcase()\n",
    "print(x)\n"
   ]
  },
  {
   "cell_type": "code",
   "execution_count": 41,
   "id": "78e0d22d",
   "metadata": {},
   "outputs": [
    {
     "name": "stdout",
     "output_type": "stream",
     "text": [
      "Welcome To My World\n",
      "Welcome To My 2Nd World\n",
      "Hello B2B2B2 And 3G3G3G\n"
     ]
    }
   ],
   "source": [
    "# Definition and Usage\n",
    "# The title() method returns a string where the first character in every word is upper case. Like a header, or a title.\n",
    "\n",
    "# If the word contains a number or a symbol, the first letter after that will be converted to upper case.\n",
    "\n",
    "# Syntax\n",
    "# string.title()\n",
    "\n",
    "# Example\n",
    "# Make the first letter in each word upper case:\n",
    "\n",
    "txt = \"Welcome to my world\"\n",
    "x = txt.title()\n",
    "print(x)\n",
    "\n",
    "# Example\n",
    "# Make the first letter in each word upper case:\n",
    "\n",
    "txt = \"Welcome to my 2nd world\"\n",
    "x = txt.title()\n",
    "print(x)\n",
    "\n",
    "# Example\n",
    "# Note that the first letter after a non-alphabet letter is converted into a upper case letter:\n",
    "\n",
    "txt = \"hello b2b2b2 and 3g3g3g\"\n",
    "x = txt.title()\n",
    "print(x)"
   ]
  },
  {
   "cell_type": "code",
   "execution_count": 42,
   "id": "cf92267f",
   "metadata": {},
   "outputs": [
    {
     "name": "stdout",
     "output_type": "stream",
     "text": [
      "Hello Pam!\n",
      "Hello Pam!\n",
      "Hi Joe!\n",
      "G i Joe!\n",
      "G i Joe!\n"
     ]
    }
   ],
   "source": [
    "# Definition and Usage\n",
    "# The translate() method returns a string where some specified characters are replaced with the character described in a dictionary, or in a mapping table.\n",
    "# Use the maketrans() method to create a mapping table.\n",
    "# If a character is not specified in the dictionary/table, the character will not be replaced.\n",
    "# If you use a dictionary, you must use ascii codes instead of characters.\n",
    "\n",
    "# Syntax\n",
    "# string.translate(table)\n",
    "# table\tRequired. Either a dictionary, or a mapping table describing how to perform the replace\n",
    "\n",
    "# Example\n",
    "# Replace any \"S\" characters with a \"P\" character:\n",
    "\n",
    "#use a dictionary with ascii codes to replace 83 (S) with 80 (P):\n",
    "mydict = {83:  80}\n",
    "txt = \"Hello Sam!\"\n",
    "print(txt.translate(mydict))\n",
    "\n",
    "# Example\n",
    "# Use a mapping table to replace \"S\" with \"P\":\n",
    "\n",
    "txt = \"Hello Sam!\"\n",
    "mytable = txt.maketrans(\"S\", \"P\")\n",
    "print(txt.translate(mytable))\n",
    "\n",
    "# Example\n",
    "# Use a mapping table to replace many characters:\n",
    "\n",
    "txt = \"Hi Sam!\"\n",
    "x = \"mSa\"\n",
    "y = \"eJo\"\n",
    "mytable = txt.maketrans(x, y)\n",
    "print(txt.translate(mytable))\n",
    "\n",
    "# Example\n",
    "# The third parameter in the mapping table describes characters that you want to remove from the string:\n",
    "\n",
    "txt = \"Good night Sam!\"\n",
    "x = \"mSa\"\n",
    "y = \"eJo\"\n",
    "z = \"odnght\"\n",
    "mytable = txt.maketrans(x, y, z)\n",
    "print(txt.translate(mytable))\n",
    "\n",
    "# Example\n",
    "# The same example as above, but using a dictionary instead of a mapping table:\n",
    "\n",
    "txt = \"Good night Sam!\"\n",
    "mydict = {109: 101, 83: 74, 97: 111, 111: None, 100: None, 110: None, 103: None, 104: None, 116: None}\n",
    "print(txt.translate(mydict))\n"
   ]
  },
  {
   "cell_type": "code",
   "execution_count": 43,
   "id": "bf3c0969",
   "metadata": {},
   "outputs": [
    {
     "name": "stdout",
     "output_type": "stream",
     "text": [
      "HELLO MY FRIENDS\n"
     ]
    }
   ],
   "source": [
    "# Definition and Usage\n",
    "# The upper() method returns a string where all characters are in upper case.\n",
    "#  Symbols and Numbers are ignored.\n",
    "\n",
    "# Syntax\n",
    "# string.upper()\n",
    "\n",
    "# Example\n",
    "# Upper case the string:\n",
    "\n",
    "txt = \"Hello my friends\"\n",
    "x = txt.upper()\n",
    "print(x)\n",
    "\n"
   ]
  },
  {
   "cell_type": "code",
   "execution_count": 44,
   "id": "856fda29",
   "metadata": {},
   "outputs": [
    {
     "name": "stdout",
     "output_type": "stream",
     "text": [
      "0000000050\n",
      "00000hello\n",
      "welcome to the jungle\n",
      "000010.000\n"
     ]
    }
   ],
   "source": [
    "# Definition and Usage\n",
    "# The zfill() method adds zeros (0) at the beginning of the string, until it reaches the specified length.\n",
    "# If the value of the len parameter is less than the length of the string, no filling is done.\n",
    "\n",
    "# Syntax\n",
    "# string.zfill(len)\n",
    "# len\tRequired. A number specifying the desired length of the string\n",
    "\n",
    "# Example\n",
    "# Fill the string with zeros until it is 10 characters long:\n",
    "\n",
    "txt = \"50\"\n",
    "x = txt.zfill(10)\n",
    "print(x)\n",
    "\n",
    "# Example\n",
    "# Fill the strings with zeros until they are 10 characters long:\n",
    "\n",
    "a = \"hello\"\n",
    "b = \"welcome to the jungle\"\n",
    "c = \"10.000\"\n",
    "\n",
    "print(a.zfill(10))\n",
    "print(b.zfill(10))\n",
    "print(c.zfill(10))"
   ]
  },
  {
   "cell_type": "code",
   "execution_count": null,
   "id": "14df9485",
   "metadata": {},
   "outputs": [],
   "source": []
  }
 ],
 "metadata": {
  "kernelspec": {
   "display_name": "Python 3",
   "language": "python",
   "name": "python3"
  },
  "language_info": {
   "codemirror_mode": {
    "name": "ipython",
    "version": 3
   },
   "file_extension": ".py",
   "mimetype": "text/x-python",
   "name": "python",
   "nbconvert_exporter": "python",
   "pygments_lexer": "ipython3",
   "version": "3.8.8"
  }
 },
 "nbformat": 4,
 "nbformat_minor": 5
}
