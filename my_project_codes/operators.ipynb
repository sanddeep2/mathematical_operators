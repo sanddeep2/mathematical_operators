{
 "cells": [
  {
   "cell_type": "code",
   "execution_count": 10,
   "id": "6bcd743f",
   "metadata": {},
   "outputs": [
    {
     "data": {
      "text/plain": [
       "50"
      ]
     },
     "execution_count": 10,
     "metadata": {},
     "output_type": "execute_result"
    }
   ],
   "source": [
    "a=20\n",
    "b=30\n",
    "a+b"
   ]
  },
  {
   "cell_type": "code",
   "execution_count": 11,
   "id": "1b4ec04f",
   "metadata": {},
   "outputs": [
    {
     "data": {
      "text/plain": [
       "(20, 30)"
      ]
     },
     "execution_count": 11,
     "metadata": {},
     "output_type": "execute_result"
    }
   ],
   "source": [
    "a,b"
   ]
  },
  {
   "cell_type": "code",
   "execution_count": 12,
   "id": "9dffe7fd",
   "metadata": {},
   "outputs": [
    {
     "data": {
      "text/plain": [
       "-10"
      ]
     },
     "execution_count": 12,
     "metadata": {},
     "output_type": "execute_result"
    }
   ],
   "source": [
    "a-b"
   ]
  },
  {
   "cell_type": "code",
   "execution_count": 13,
   "id": "5d941cd3",
   "metadata": {},
   "outputs": [
    {
     "data": {
      "text/plain": [
       "0.6666666666666666"
      ]
     },
     "execution_count": 13,
     "metadata": {},
     "output_type": "execute_result"
    }
   ],
   "source": [
    "a/b"
   ]
  },
  {
   "cell_type": "code",
   "execution_count": 14,
   "id": "ae171601",
   "metadata": {},
   "outputs": [
    {
     "data": {
      "text/plain": [
       "True"
      ]
     },
     "execution_count": 14,
     "metadata": {},
     "output_type": "execute_result"
    }
   ],
   "source": [
    "a=20\n",
    "s=30\n",
    "a<s"
   ]
  },
  {
   "cell_type": "code",
   "execution_count": 15,
   "id": "6e5ce1af",
   "metadata": {},
   "outputs": [
    {
     "data": {
      "text/plain": [
       "False"
      ]
     },
     "execution_count": 15,
     "metadata": {},
     "output_type": "execute_result"
    }
   ],
   "source": [
    "a>s"
   ]
  },
  {
   "cell_type": "code",
   "execution_count": 16,
   "id": "0f882672",
   "metadata": {},
   "outputs": [
    {
     "data": {
      "text/plain": [
       "True"
      ]
     },
     "execution_count": 16,
     "metadata": {},
     "output_type": "execute_result"
    }
   ],
   "source": [
    "a<b"
   ]
  },
  {
   "cell_type": "code",
   "execution_count": 17,
   "id": "bec8e673",
   "metadata": {},
   "outputs": [
    {
     "data": {
      "text/plain": [
       "False"
      ]
     },
     "execution_count": 17,
     "metadata": {},
     "output_type": "execute_result"
    }
   ],
   "source": [
    "a>b"
   ]
  },
  {
   "cell_type": "code",
   "execution_count": 18,
   "id": "5c2aa6e1",
   "metadata": {},
   "outputs": [
    {
     "data": {
      "text/plain": [
       "True"
      ]
     },
     "execution_count": 18,
     "metadata": {},
     "output_type": "execute_result"
    }
   ],
   "source": [
    "a<s"
   ]
  },
  {
   "cell_type": "code",
   "execution_count": 19,
   "id": "75dfc7b8",
   "metadata": {},
   "outputs": [
    {
     "data": {
      "text/plain": [
       "False"
      ]
     },
     "execution_count": 19,
     "metadata": {},
     "output_type": "execute_result"
    }
   ],
   "source": [
    "a>s"
   ]
  },
  {
   "cell_type": "code",
   "execution_count": 20,
   "id": "a7d856f0",
   "metadata": {},
   "outputs": [
    {
     "data": {
      "text/plain": [
       "False"
      ]
     },
     "execution_count": 20,
     "metadata": {},
     "output_type": "execute_result"
    }
   ],
   "source": [
    "a==s"
   ]
  },
  {
   "cell_type": "code",
   "execution_count": 21,
   "id": "82991f4d",
   "metadata": {},
   "outputs": [
    {
     "data": {
      "text/plain": [
       "True"
      ]
     },
     "execution_count": 21,
     "metadata": {},
     "output_type": "execute_result"
    }
   ],
   "source": [
    "b==s"
   ]
  },
  {
   "cell_type": "code",
   "execution_count": 22,
   "id": "7ae29870",
   "metadata": {},
   "outputs": [
    {
     "data": {
      "text/plain": [
       "True"
      ]
     },
     "execution_count": 22,
     "metadata": {},
     "output_type": "execute_result"
    }
   ],
   "source": [
    "a!=b"
   ]
  },
  {
   "cell_type": "code",
   "execution_count": 23,
   "id": "fb85fc9a",
   "metadata": {},
   "outputs": [
    {
     "data": {
      "text/plain": [
       "True"
      ]
     },
     "execution_count": 23,
     "metadata": {},
     "output_type": "execute_result"
    }
   ],
   "source": [
    "a!=s"
   ]
  },
  {
   "cell_type": "code",
   "execution_count": 24,
   "id": "45124e43",
   "metadata": {},
   "outputs": [
    {
     "ename": "SyntaxError",
     "evalue": "invalid syntax (<ipython-input-24-f09fde9ff4d8>, line 1)",
     "output_type": "error",
     "traceback": [
      "\u001b[1;36m  File \u001b[1;32m\"<ipython-input-24-f09fde9ff4d8>\"\u001b[1;36m, line \u001b[1;32m1\u001b[0m\n\u001b[1;33m    s!b\u001b[0m\n\u001b[1;37m     ^\u001b[0m\n\u001b[1;31mSyntaxError\u001b[0m\u001b[1;31m:\u001b[0m invalid syntax\n"
     ]
    }
   ],
   "source": [
    "s!b"
   ]
  },
  {
   "cell_type": "code",
   "execution_count": 25,
   "id": "6a0489c8",
   "metadata": {},
   "outputs": [
    {
     "data": {
      "text/plain": [
       "False"
      ]
     },
     "execution_count": 25,
     "metadata": {},
     "output_type": "execute_result"
    }
   ],
   "source": [
    "s!=b"
   ]
  },
  {
   "cell_type": "code",
   "execution_count": 43,
   "id": "be0c834b",
   "metadata": {},
   "outputs": [],
   "source": [
    "c=a!=s\n",
    "d=s!=b\n",
    "e=(s==b)\n",
    "f=(a==b)"
   ]
  },
  {
   "cell_type": "code",
   "execution_count": 27,
   "id": "183dd2f7",
   "metadata": {},
   "outputs": [
    {
     "data": {
      "text/plain": [
       "False"
      ]
     },
     "execution_count": 27,
     "metadata": {},
     "output_type": "execute_result"
    }
   ],
   "source": [
    "c&d"
   ]
  },
  {
   "cell_type": "code",
   "execution_count": 28,
   "id": "a54e3b68",
   "metadata": {},
   "outputs": [
    {
     "data": {
      "text/plain": [
       "False"
      ]
     },
     "execution_count": 28,
     "metadata": {},
     "output_type": "execute_result"
    }
   ],
   "source": [
    "c&d"
   ]
  },
  {
   "cell_type": "code",
   "execution_count": 29,
   "id": "33b4fdd8",
   "metadata": {},
   "outputs": [
    {
     "data": {
      "text/plain": [
       "True"
      ]
     },
     "execution_count": 29,
     "metadata": {},
     "output_type": "execute_result"
    }
   ],
   "source": [
    "c&c"
   ]
  },
  {
   "cell_type": "code",
   "execution_count": 37,
   "id": "eb69ec93",
   "metadata": {},
   "outputs": [
    {
     "data": {
      "text/plain": [
       "True"
      ]
     },
     "execution_count": 37,
     "metadata": {},
     "output_type": "execute_result"
    }
   ],
   "source": [
    "c&e"
   ]
  },
  {
   "cell_type": "code",
   "execution_count": 34,
   "id": "902029b6",
   "metadata": {},
   "outputs": [
    {
     "data": {
      "text/plain": [
       "False"
      ]
     },
     "execution_count": 34,
     "metadata": {},
     "output_type": "execute_result"
    }
   ],
   "source": [
    "c&d"
   ]
  },
  {
   "cell_type": "code",
   "execution_count": 44,
   "id": "fb09fe60",
   "metadata": {},
   "outputs": [
    {
     "data": {
      "text/plain": [
       "False"
      ]
     },
     "execution_count": 44,
     "metadata": {},
     "output_type": "execute_result"
    }
   ],
   "source": [
    "c&f"
   ]
  },
  {
   "cell_type": "code",
   "execution_count": 45,
   "id": "901561e9",
   "metadata": {},
   "outputs": [
    {
     "data": {
      "text/plain": [
       "True"
      ]
     },
     "execution_count": 45,
     "metadata": {},
     "output_type": "execute_result"
    }
   ],
   "source": [
    "d|f"
   ]
  },
  {
   "cell_type": "code",
   "execution_count": 46,
   "id": "a227a8a5",
   "metadata": {},
   "outputs": [
    {
     "data": {
      "text/plain": [
       "False"
      ]
     },
     "execution_count": 46,
     "metadata": {},
     "output_type": "execute_result"
    }
   ],
   "source": [
    "c|d"
   ]
  },
  {
   "cell_type": "code",
   "execution_count": 47,
   "id": "1ba59734",
   "metadata": {},
   "outputs": [
    {
     "data": {
      "text/plain": [
       "True"
      ]
     },
     "execution_count": 47,
     "metadata": {},
     "output_type": "execute_result"
    }
   ],
   "source": [
    "c|e"
   ]
  },
  {
   "cell_type": "code",
   "execution_count": 48,
   "id": "0abc63b2",
   "metadata": {},
   "outputs": [
    {
     "data": {
      "text/plain": [
       "True"
      ]
     },
     "execution_count": 48,
     "metadata": {},
     "output_type": "execute_result"
    }
   ],
   "source": [
    "c|f"
   ]
  },
  {
   "cell_type": "code",
   "execution_count": 49,
   "id": "b29a3101",
   "metadata": {},
   "outputs": [
    {
     "data": {
      "text/plain": [
       "False"
      ]
     },
     "execution_count": 49,
     "metadata": {},
     "output_type": "execute_result"
    }
   ],
   "source": [
    "c|c"
   ]
  },
  {
   "cell_type": "code",
   "execution_count": 51,
   "id": "339c4f15",
   "metadata": {},
   "outputs": [],
   "source": [
    "x=True\n",
    "y= False\n"
   ]
  },
  {
   "cell_type": "code",
   "execution_count": 52,
   "id": "db9479c5",
   "metadata": {},
   "outputs": [
    {
     "data": {
      "text/plain": [
       "False"
      ]
     },
     "execution_count": 52,
     "metadata": {},
     "output_type": "execute_result"
    }
   ],
   "source": [
    "y|y"
   ]
  },
  {
   "cell_type": "code",
   "execution_count": 53,
   "id": "9c967b75",
   "metadata": {},
   "outputs": [
    {
     "data": {
      "text/plain": [
       "True"
      ]
     },
     "execution_count": 53,
     "metadata": {},
     "output_type": "execute_result"
    }
   ],
   "source": [
    "x|y"
   ]
  },
  {
   "cell_type": "code",
   "execution_count": 54,
   "id": "6e819a43",
   "metadata": {},
   "outputs": [
    {
     "data": {
      "text/plain": [
       "True"
      ]
     },
     "execution_count": 54,
     "metadata": {},
     "output_type": "execute_result"
    }
   ],
   "source": [
    "x|x"
   ]
  },
  {
   "cell_type": "code",
   "execution_count": 55,
   "id": "f1359cb7",
   "metadata": {},
   "outputs": [
    {
     "data": {
      "text/plain": [
       "True"
      ]
     },
     "execution_count": 55,
     "metadata": {},
     "output_type": "execute_result"
    }
   ],
   "source": [
    "y|x"
   ]
  },
  {
   "cell_type": "code",
   "execution_count": 61,
   "id": "c96ffce0",
   "metadata": {},
   "outputs": [
    {
     "data": {
      "text/plain": [
       "'t'"
      ]
     },
     "execution_count": 61,
     "metadata": {},
     "output_type": "execute_result"
    }
   ],
   "source": [
    "a=\"This Is My first string\"\n",
    "a[-5]"
   ]
  },
  {
   "cell_type": "code",
   "execution_count": 63,
   "id": "7c714ae2",
   "metadata": {},
   "outputs": [
    {
     "data": {
      "text/plain": [
       "'s is my'"
      ]
     },
     "execution_count": 63,
     "metadata": {},
     "output_type": "execute_result"
    }
   ],
   "source": [
    "a[3:10]"
   ]
  },
  {
   "cell_type": "code",
   "execution_count": 64,
   "id": "552d6cd4",
   "metadata": {},
   "outputs": [
    {
     "data": {
      "text/plain": [
       "23"
      ]
     },
     "execution_count": 64,
     "metadata": {},
     "output_type": "execute_result"
    }
   ],
   "source": [
    "len(a)"
   ]
  },
  {
   "cell_type": "code",
   "execution_count": 66,
   "id": "500ca794",
   "metadata": {},
   "outputs": [
    {
     "data": {
      "text/plain": [
       "'this is my first string'"
      ]
     },
     "execution_count": 66,
     "metadata": {},
     "output_type": "execute_result"
    }
   ],
   "source": [
    "a.lower()"
   ]
  },
  {
   "cell_type": "code",
   "execution_count": 67,
   "id": "a6ad768b",
   "metadata": {},
   "outputs": [
    {
     "data": {
      "text/plain": [
       "'THIS IS MY FIRST STRING'"
      ]
     },
     "execution_count": 67,
     "metadata": {},
     "output_type": "execute_result"
    }
   ],
   "source": [
    "a.upper()"
   ]
  },
  {
   "cell_type": "code",
   "execution_count": 76,
   "id": "a26229dd",
   "metadata": {},
   "outputs": [
    {
     "name": "stdout",
     "output_type": "stream",
     "text": [
      "False\n"
     ]
    }
   ],
   "source": [
    "txt = \"The best things in life are free!\"\n",
    "print(\"best\" not in txt)"
   ]
  },
  {
   "cell_type": "code",
   "execution_count": 82,
   "id": "5559c7eb",
   "metadata": {},
   "outputs": [
    {
     "name": "stdout",
     "output_type": "stream",
     "text": [
      "present\n"
     ]
    }
   ],
   "source": [
    "txt = \"The best things in life are free!\"\n",
    "if \"free\" not in txt:\n",
    "  print(\"no, 'free' is absent.\")\n",
    "else:\n",
    "    print(\"present\")"
   ]
  },
  {
   "cell_type": "code",
   "execution_count": 85,
   "id": "da49ee3d",
   "metadata": {},
   "outputs": [
    {
     "name": "stdout",
     "output_type": "stream",
     "text": [
      "llo, World!\n"
     ]
    }
   ],
   "source": [
    "b = \"Hello, World!\"\n",
    "print(b[2:])"
   ]
  },
  {
   "cell_type": "code",
   "execution_count": 93,
   "id": "ffa7dfc1",
   "metadata": {},
   "outputs": [
    {
     "name": "stdout",
     "output_type": "stream",
     "text": [
      "orl\n"
     ]
    }
   ],
   "source": [
    "b = \"            Hello, World!\"\n",
    "print(b[-5:-2])"
   ]
  },
  {
   "cell_type": "code",
   "execution_count": 87,
   "id": "fed91f6b",
   "metadata": {},
   "outputs": [
    {
     "name": "stdout",
     "output_type": "stream",
     "text": [
      "HELLO, WORLD!\n"
     ]
    }
   ],
   "source": [
    "print(b.upper())"
   ]
  },
  {
   "cell_type": "code",
   "execution_count": 88,
   "id": "35be87e4",
   "metadata": {},
   "outputs": [
    {
     "name": "stdout",
     "output_type": "stream",
     "text": [
      "hello, world!\n"
     ]
    }
   ],
   "source": [
    "print(b.lower())"
   ]
  },
  {
   "cell_type": "code",
   "execution_count": 91,
   "id": "2d389f8e",
   "metadata": {},
   "outputs": [
    {
     "name": "stdout",
     "output_type": "stream",
     "text": [
      "Hello,     World!\n"
     ]
    }
   ],
   "source": [
    "a = \"      Hello,     World! \"\n",
    "print(a.strip()) # returns \"Hello, World!\""
   ]
  },
  {
   "cell_type": "code",
   "execution_count": 94,
   "id": "3964e01c",
   "metadata": {},
   "outputs": [
    {
     "data": {
      "text/plain": [
       "'Hello, World!'"
      ]
     },
     "execution_count": 94,
     "metadata": {},
     "output_type": "execute_result"
    }
   ],
   "source": [
    "b.strip()"
   ]
  },
  {
   "cell_type": "code",
   "execution_count": 100,
   "id": "ffcea404",
   "metadata": {},
   "outputs": [
    {
     "data": {
      "text/plain": [
       "'            Hello, Wpappud!'"
      ]
     },
     "execution_count": 100,
     "metadata": {},
     "output_type": "execute_result"
    }
   ],
   "source": [
    "b.replace('orl','pappu')"
   ]
  },
  {
   "cell_type": "raw",
   "id": "6befd157",
   "metadata": {},
   "source": [
    "print(a.split(\",\"))"
   ]
  },
  {
   "cell_type": "code",
   "execution_count": 105,
   "id": "b40fc8dd",
   "metadata": {},
   "outputs": [
    {
     "name": "stdout",
     "output_type": "stream",
     "text": [
      "['Hello, ', 'orld!']\n"
     ]
    }
   ],
   "source": [
    "a = \"Hello, World!\"\n",
    "print(a.split(\"W\")) # returns ['Hello', ' World!']"
   ]
  },
  {
   "cell_type": "code",
   "execution_count": 108,
   "id": "3ea2d51a",
   "metadata": {},
   "outputs": [
    {
     "name": "stdout",
     "output_type": "stream",
     "text": [
      "Hello    World\n"
     ]
    }
   ],
   "source": [
    "a = \"Hello\"\n",
    "b = \"World\"\n",
    "c = a +\"  \"+ b\n",
    "print(a,\"  \",b)"
   ]
  },
  {
   "cell_type": "code",
   "execution_count": 123,
   "id": "e5760581",
   "metadata": {},
   "outputs": [
    {
     "ename": "KeyError",
     "evalue": "' '",
     "output_type": "error",
     "traceback": [
      "\u001b[1;31m---------------------------------------------------------------------------\u001b[0m",
      "\u001b[1;31mKeyError\u001b[0m                                  Traceback (most recent call last)",
      "\u001b[1;32m<ipython-input-123-8fc874b88aec>\u001b[0m in \u001b[0;36m<module>\u001b[1;34m\u001b[0m\n\u001b[0;32m      3\u001b[0m \u001b[0my\u001b[0m\u001b[1;33m=\u001b[0m\u001b[1;36m50\u001b[0m\u001b[1;33m\u001b[0m\u001b[1;33m\u001b[0m\u001b[0m\n\u001b[0;32m      4\u001b[0m \u001b[0mtxt\u001b[0m\u001b[1;33m=\u001b[0m\u001b[1;34m\"My name is John, and I am {},i want {} ,mango for { } rupees\"\u001b[0m\u001b[1;33m\u001b[0m\u001b[1;33m\u001b[0m\u001b[0m\n\u001b[1;32m----> 5\u001b[1;33m \u001b[0mprint\u001b[0m\u001b[1;33m(\u001b[0m\u001b[0mtxt\u001b[0m\u001b[1;33m.\u001b[0m\u001b[0mformat\u001b[0m\u001b[1;33m(\u001b[0m\u001b[0mage\u001b[0m\u001b[1;33m,\u001b[0m \u001b[0mx\u001b[0m\u001b[1;33m,\u001b[0m \u001b[0my\u001b[0m\u001b[1;33m)\u001b[0m\u001b[1;33m)\u001b[0m\u001b[1;33m\u001b[0m\u001b[1;33m\u001b[0m\u001b[0m\n\u001b[0m",
      "\u001b[1;31mKeyError\u001b[0m: ' '"
     ]
    }
   ],
   "source": [
    "age =20\n",
    "x=3\n",
    "y=50\n",
    "txt=\"My name is John, and I am {},i want {} ,mango for { } rupees\"\n",
    "print(txt.format(age, x, y))\n"
   ]
  },
  {
   "cell_type": "code",
   "execution_count": 116,
   "id": "fb4deca5",
   "metadata": {},
   "outputs": [
    {
     "name": "stdout",
     "output_type": "stream",
     "text": [
      "I want 3 pieces of item 567 for 49.95 dollars.\n"
     ]
    }
   ],
   "source": [
    "quantity = 3\n",
    "itemno = 567\n",
    "price = 49.95\n",
    "myorder = \"I want {} pieces of item {} for {} dollars.\"\n",
    "print(myorder.format(quantity, itemno, price))"
   ]
  },
  {
   "cell_type": "code",
   "execution_count": 131,
   "id": "8b6398cb",
   "metadata": {},
   "outputs": [
    {
     "name": "stdout",
     "output_type": "stream",
     "text": [
      "this is 20 that is 30 which is 50\n"
     ]
    }
   ],
   "source": [
    "x=20\n",
    "y=30\n",
    "z=50\n",
    "a=\"this is {} that is {} which is {}\"\n",
    "print(a.format(x,y,z))"
   ]
  },
  {
   "cell_type": "code",
   "execution_count": 132,
   "id": "15635c06",
   "metadata": {},
   "outputs": [
    {
     "name": "stdout",
     "output_type": "stream",
     "text": [
      "hello\n",
      " world\n"
     ]
    }
   ],
   "source": [
    "print(\"hello\\n world\")"
   ]
  },
  {
   "cell_type": "code",
   "execution_count": 137,
   "id": "13368cc8",
   "metadata": {},
   "outputs": [
    {
     "name": "stdout",
     "output_type": "stream",
     "text": [
      "hello\r",
      " world\r",
      "god\n"
     ]
    }
   ],
   "source": [
    "print(\"hello\\r world\\rgod\")"
   ]
  },
  {
   "cell_type": "code",
   "execution_count": 149,
   "id": "f7d8e6e3",
   "metadata": {},
   "outputs": [
    {
     "name": "stdout",
     "output_type": "stream",
     "text": [
      "H\n"
     ]
    }
   ],
   "source": [
    "print(\"\\x48\")"
   ]
  },
  {
   "cell_type": "code",
   "execution_count": 151,
   "id": "e2e7e99c",
   "metadata": {},
   "outputs": [
    {
     "name": "stdout",
     "output_type": "stream",
     "text": [
      "Hello, and welcome to my world.\n"
     ]
    }
   ],
   "source": [
    "txt = \"hello, and welcome to my world.\"\n",
    "print(txt.capitalize())\n"
   ]
  },
  {
   "cell_type": "code",
   "execution_count": 153,
   "id": "9fef750e",
   "metadata": {},
   "outputs": [
    {
     "name": "stdout",
     "output_type": "stream",
     "text": [
      "hello\n"
     ]
    }
   ],
   "source": [
    "txt = \"Hello\"\n",
    "\n",
    "x = txt.casefold()\n",
    "\n",
    "print(x)\n"
   ]
  },
  {
   "cell_type": "code",
   "execution_count": 154,
   "id": "a07342bf",
   "metadata": {},
   "outputs": [
    {
     "name": "stdout",
     "output_type": "stream",
     "text": [
      "sssssssssssssssssssssshellosssssssssssssssssssssss\n"
     ]
    }
   ],
   "source": [
    "txt=\"hello\"\n",
    "print(txt.center(50, \"s\"))"
   ]
  },
  {
   "cell_type": "code",
   "execution_count": 166,
   "id": "49368d18",
   "metadata": {},
   "outputs": [
    {
     "name": "stdout",
     "output_type": "stream",
     "text": [
      "3\n"
     ]
    }
   ],
   "source": [
    "txt=\"yes sir yes i will do yes\"\n",
    "print(txt.count(\"yes\",0,))"
   ]
  },
  {
   "cell_type": "code",
   "execution_count": 170,
   "id": "b70df148",
   "metadata": {},
   "outputs": [
    {
     "name": "stdout",
     "output_type": "stream",
     "text": [
      "My name is StÃ¥le\n"
     ]
    }
   ],
   "source": [
    "print(\"My name is St\\xc3\\xa5le\")"
   ]
  },
  {
   "cell_type": "code",
   "execution_count": 169,
   "id": "c57f2ecc",
   "metadata": {},
   "outputs": [
    {
     "name": "stdout",
     "output_type": "stream",
     "text": [
      "b'My name is St\\xc3\\xa5le'\n"
     ]
    }
   ],
   "source": [
    "txt = \"My name is Ståle\"\n",
    "\n",
    "x = txt.encode()\n",
    "\n",
    "print(x)\n"
   ]
  },
  {
   "cell_type": "code",
   "execution_count": null,
   "id": "9d9eb480",
   "metadata": {},
   "outputs": [],
   "source": []
  }
 ],
 "metadata": {
  "kernelspec": {
   "display_name": "Python 3",
   "language": "python",
   "name": "python3"
  },
  "language_info": {
   "codemirror_mode": {
    "name": "ipython",
    "version": 3
   },
   "file_extension": ".py",
   "mimetype": "text/x-python",
   "name": "python",
   "nbconvert_exporter": "python",
   "pygments_lexer": "ipython3",
   "version": "3.8.8"
  }
 },
 "nbformat": 4,
 "nbformat_minor": 5
}
